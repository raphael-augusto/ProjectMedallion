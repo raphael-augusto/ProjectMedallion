{
 "cells": [
  {
   "cell_type": "code",
   "execution_count": 0,
   "metadata": {
    "application/vnd.databricks.v1+cell": {
     "cellMetadata": {},
     "inputWidgets": {},
     "nuid": "acb0996b-11f5-4d3d-861b-81d9c76766fc",
     "showTitle": false,
     "tableResultSettingsMap": {},
     "title": ""
    }
   },
   "outputs": [],
   "source": [
    "# pipeline_driver.py\n",
    "\n",
    "def run_notebook(notebook_path):\n",
    "    print(f\"Executando notebook: {notebook_path}\")\n",
    "    dbutils.notebook.run(notebook_path, timeout_seconds=0)\n",
    "\n",
    "# Caminhos relativos a partir do pipeline principal\n",
    "layers = [\n",
    "    \"./raw/raw_job\",\n",
    "    \"./bronze/bronze_job\",\n",
    "    \"./silver/silver_job\",\n",
    "    \"./gold/gold_job\"\n",
    "]\n",
    "\n",
    "for layer in layers:\n",
    "    run_notebook(layer)\n"
   ]
  }
 ],
 "metadata": {
  "application/vnd.databricks.v1+notebook": {
   "computePreferences": null,
   "dashboards": [],
   "environmentMetadata": {
    "base_environment": "",
    "environment_version": "2"
   },
   "inputWidgetPreferences": null,
   "language": "python",
   "notebookMetadata": {
    "pythonIndentUnit": 4
   },
   "notebookName": "pipeline_driver.py",
   "widgets": {}
  },
  "language_info": {
   "name": "python"
  }
 },
 "nbformat": 4,
 "nbformat_minor": 0
}
