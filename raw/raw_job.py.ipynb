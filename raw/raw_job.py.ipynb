{
 "cells": [
  {
   "cell_type": "code",
   "execution_count": 0,
   "metadata": {
    "application/vnd.databricks.v1+cell": {
     "cellMetadata": {
      "byteLimit": 2048000,
      "rowLimit": 10000
     },
     "inputWidgets": {},
     "nuid": "df9bcfa0-98b9-4757-b32f-8dfef64a386f",
     "showTitle": false,
     "tableResultSettingsMap": {},
     "title": ""
    }
   },
   "outputs": [],
   "source": [
    "import sys\n",
    "import os\n",
    "\n",
    "print(\"cwd:\", os.getcwd())\n",
    "print(\"sys.path:\", sys.path)\n",
    "\n",
    "print(\"Tem config?\", os.path.exists(\"config\"))\n",
    "print(\"Tem config/config.py?\", os.path.exists(\"config/config.py\"))\n",
    "print(\"Tem __init__.py na config?\", os.path.exists(\"config/__init__.py\"))\n"
   ]
  },
  {
   "cell_type": "code",
   "execution_count": 0,
   "metadata": {
    "application/vnd.databricks.v1+cell": {
     "cellMetadata": {
      "byteLimit": 2048000,
      "rowLimit": 10000
     },
     "inputWidgets": {},
     "nuid": "d24470fd-d8f4-43a8-a174-681fe55abe05",
     "showTitle": false,
     "tableResultSettingsMap": {},
     "title": ""
    }
   },
   "outputs": [],
   "source": [
    "# raw/raw_job.py\n",
    "# import sys\n",
    "# import os\n",
    "# sys.path.append(os.path.abspath(os.path.join(os.path.dirname(__file__), '..', 'config')))\n",
    "\n",
    "from config.config import API_URL, TABLES\n",
    "\n",
    "# Test the import by printing the values\n",
    "print(\"API_URL:\", API_URL)\n",
    "print(\"TABLES:\", TABLES)\n",
    "\n",
    "\n",
    "# print(os.getcwd())\n",
    "# print(os.listdir(\"config\"))\n",
    "\n",
    "\n",
    "# from utils.api_ingest import fetch_api_to_spark\n",
    "# from utils.delta_utils import log, write_table\n",
    "\n",
    "# log(\"RAW\", \"Iniciando ingestão API\")\n",
    "# df_raw = fetch_api_to_spark(API_URL, spark)\n",
    "# write_table(df_raw, TABLES[\"raw\"])\n",
    "# log(\"RAW\", \"RAW finalizada\")"
   ]
  }
 ],
 "metadata": {
  "application/vnd.databricks.v1+notebook": {
   "computePreferences": null,
   "dashboards": [],
   "environmentMetadata": {
    "base_environment": "",
    "environment_version": "2"
   },
   "inputWidgetPreferences": null,
   "language": "python",
   "notebookMetadata": {
    "pythonIndentUnit": 4
   },
   "notebookName": "raw_job.py",
   "widgets": {}
  },
  "language_info": {
   "name": "python"
  }
 },
 "nbformat": 4,
 "nbformat_minor": 0
}
