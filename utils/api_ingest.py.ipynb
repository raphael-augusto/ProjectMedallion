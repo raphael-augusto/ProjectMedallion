{
 "cells": [
  {
   "cell_type": "code",
   "execution_count": 0,
   "metadata": {
    "application/vnd.databricks.v1+cell": {
     "cellMetadata": {
      "byteLimit": 2048000,
      "rowLimit": 10000
     },
     "inputWidgets": {},
     "nuid": "27a83aff-87f1-43cd-b9fd-ab385b9fe6ff",
     "showTitle": false,
     "tableResultSettingsMap": {},
     "title": ""
    }
   },
   "outputs": [],
   "source": [
    "# utils/api_ingest.py\n",
    "\n",
    "import requests\n",
    "import pandas as pd\n",
    "\n",
    "def fetch_api_to_spark(api_url, spark):\n",
    "    resp = requests.get(api_url)\n",
    "    resp.raise_for_status()\n",
    "    df_pd = pd.json_normalize(resp.json()[\"value\"])\n",
    "    return spark.createDataFrame(df_pd)\n"
   ]
  }
 ],
 "metadata": {
  "application/vnd.databricks.v1+notebook": {
   "computePreferences": null,
   "dashboards": [],
   "environmentMetadata": {
    "base_environment": "",
    "environment_version": "2"
   },
   "inputWidgetPreferences": null,
   "language": "python",
   "notebookMetadata": {
    "pythonIndentUnit": 4
   },
   "notebookName": "api_ingest.py",
   "widgets": {}
  },
  "language_info": {
   "name": "python"
  }
 },
 "nbformat": 4,
 "nbformat_minor": 0
}
