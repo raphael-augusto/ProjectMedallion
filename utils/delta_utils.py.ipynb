{
 "cells": [
  {
   "cell_type": "code",
   "execution_count": 0,
   "metadata": {
    "application/vnd.databricks.v1+cell": {
     "cellMetadata": {
      "byteLimit": 2048000,
      "rowLimit": 10000
     },
     "inputWidgets": {},
     "nuid": "526aee6b-ab47-4843-9f5f-83b1d4ac8a43",
     "showTitle": false,
     "tableResultSettingsMap": {},
     "title": ""
    }
   },
   "outputs": [],
   "source": [
    "# utils/delta_utils.py\n",
    "\n",
    "def log(layer, msg):\n",
    "    from datetime import datetime\n",
    "    print(f\"[{layer.upper()}][{datetime.now().isoformat()}] {msg}\")\n",
    "\n",
    "def read_table(spark, table):\n",
    "    log(\"UTILS\", f\"Lendo tabela {table}\")\n",
    "    return spark.table(table)\n",
    "\n",
    "def write_table(df, table, mode=\"overwrite\"):\n",
    "    log(\"UTILS\", f\"Gravando tabela {table} (registros: {df.count()})\")\n",
    "    df.write.format(\"delta\").mode(mode).saveAsTable(table)\n"
   ]
  }
 ],
 "metadata": {
  "application/vnd.databricks.v1+notebook": {
   "computePreferences": null,
   "dashboards": [],
   "environmentMetadata": {
    "base_environment": "",
    "environment_version": "2"
   },
   "inputWidgetPreferences": null,
   "language": "python",
   "notebookMetadata": {
    "pythonIndentUnit": 4
   },
   "notebookName": "delta_utils.py",
   "widgets": {}
  },
  "language_info": {
   "name": "python"
  }
 },
 "nbformat": 4,
 "nbformat_minor": 0
}
