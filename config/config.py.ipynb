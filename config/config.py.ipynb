{
 "cells": [
  {
   "cell_type": "code",
   "execution_count": 0,
   "metadata": {
    "application/vnd.databricks.v1+cell": {
     "cellMetadata": {
      "byteLimit": 2048000,
      "rowLimit": 10000
     },
     "inputWidgets": {},
     "nuid": "9979ab43-be1e-4af6-9238-65fd96b354c9",
     "showTitle": false,
     "tableResultSettingsMap": {},
     "title": ""
    }
   },
   "outputs": [],
   "source": [
    "# config/config.py\n",
    "\n",
    "DATABASE = \"medallion_db\"\n",
    "API_URL = \"https://data.boston.gov/datastore/odata3.0/9d7c2214-4709-478a-a2e8-fb2020a5bb94\"\n",
    "\n",
    "TABLES = {\n",
    "    \"raw\":     f\"{DATABASE}.raw_api_data\",\n",
    "    \"bronze\":  f\"{DATABASE}.bronze_api_data\",\n",
    "    \"silver\":  f\"{DATABASE}.silver_api_data\",\n",
    "    \"gold\":    f\"{DATABASE}.gold_grouped_api\"\n",
    "}\n"
   ]
  }
 ],
 "metadata": {
  "application/vnd.databricks.v1+notebook": {
   "computePreferences": null,
   "dashboards": [],
   "environmentMetadata": {
    "base_environment": "",
    "environment_version": "2"
   },
   "inputWidgetPreferences": null,
   "language": "python",
   "notebookMetadata": {
    "pythonIndentUnit": 4
   },
   "notebookName": "config.py",
   "widgets": {}
  },
  "language_info": {
   "name": "python"
  }
 },
 "nbformat": 4,
 "nbformat_minor": 0
}
