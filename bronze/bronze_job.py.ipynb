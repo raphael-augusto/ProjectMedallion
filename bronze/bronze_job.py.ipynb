{
 "cells": [
  {
   "cell_type": "code",
   "execution_count": 0,
   "metadata": {
    "application/vnd.databricks.v1+cell": {
     "cellMetadata": {},
     "inputWidgets": {},
     "nuid": "bb124bf7-7f5e-48a2-9e47-26f5f50dfde3",
     "showTitle": false,
     "tableResultSettingsMap": {},
     "title": ""
    }
   },
   "outputs": [],
   "source": [
    "# bronze/bronze_job.py\n",
    "\n",
    "from config.config import TABLES\n",
    "from utils.delta_utils import log, read_table, write_table\n",
    "from pyspark.sql.functions import current_timestamp\n",
    "\n",
    "log(\"BRONZE\", \"Lendo RAW\")\n",
    "df_raw = read_table(spark, TABLES[\"raw\"])\n",
    "\n",
    "log(\"BRONZE\", \"Deduplicando e marcando timestamp\")\n",
    "df_bronze = df_raw.dropDuplicates([\"OFFENSE_CODE\", \"OFFENSE_DESCRIPTION\"])\\\n",
    "                  .withColumn(\"bronze_ingestion_ts\", current_timestamp())\n",
    "\n",
    "write_table(df_bronze, TABLES[\"bronze\"])\n",
    "log(\"BRONZE\", \"BRONZE finalizada\")\n"
   ]
  }
 ],
 "metadata": {
  "application/vnd.databricks.v1+notebook": {
   "computePreferences": null,
   "dashboards": [],
   "environmentMetadata": {
    "base_environment": "",
    "environment_version": "2"
   },
   "inputWidgetPreferences": null,
   "language": "python",
   "notebookMetadata": {
    "pythonIndentUnit": 4
   },
   "notebookName": "bronze_job.py",
   "widgets": {}
  },
  "language_info": {
   "name": "python"
  }
 },
 "nbformat": 4,
 "nbformat_minor": 0
}
