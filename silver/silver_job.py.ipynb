{
 "cells": [
  {
   "cell_type": "code",
   "execution_count": 0,
   "metadata": {
    "application/vnd.databricks.v1+cell": {
     "cellMetadata": {},
     "inputWidgets": {},
     "nuid": "42a47863-fd75-4ed9-8d95-c2c9edaff626",
     "showTitle": false,
     "tableResultSettingsMap": {},
     "title": ""
    }
   },
   "outputs": [],
   "source": [
    "# silver/silver_job.py\n",
    "\n",
    "from config.config import TABLES\n",
    "from utils.delta_utils import log, read_table, write_table\n",
    "\n",
    "log(\"SILVER\", \"Lendo BRONZE\")\n",
    "df_bronze = read_table(spark, TABLES[\"bronze\"])\n",
    "\n",
    "log(\"SILVER\", \"Tratando nulos, deduplicando\")\n",
    "df_silver = df_bronze.dropDuplicates([\"OFFENSE_CODE\", \"OFFENSE_DESCRIPTION\"])\\\n",
    "                     .dropna(subset=[\"OFFENSE_DESCRIPTION\"])\n",
    "\n",
    "write_table(df_silver, TABLES[\"silver\"])\n",
    "log(\"SILVER\", \"SILVER finalizada\")\n"
   ]
  }
 ],
 "metadata": {
  "application/vnd.databricks.v1+notebook": {
   "computePreferences": null,
   "dashboards": [],
   "environmentMetadata": {
    "base_environment": "",
    "environment_version": "2"
   },
   "inputWidgetPreferences": null,
   "language": "python",
   "notebookMetadata": {
    "pythonIndentUnit": 4
   },
   "notebookName": "silver_job.py",
   "widgets": {}
  },
  "language_info": {
   "name": "python"
  }
 },
 "nbformat": 4,
 "nbformat_minor": 0
}
