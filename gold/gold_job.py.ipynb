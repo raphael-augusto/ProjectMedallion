{
 "cells": [
  {
   "cell_type": "code",
   "execution_count": 0,
   "metadata": {
    "application/vnd.databricks.v1+cell": {
     "cellMetadata": {},
     "inputWidgets": {},
     "nuid": "b90a0af5-76f5-4423-ae73-73b78e4702d7",
     "showTitle": false,
     "tableResultSettingsMap": {},
     "title": ""
    }
   },
   "outputs": [],
   "source": [
    "# gold/gold_job.py\n",
    "\n",
    "from config.config import TABLES\n",
    "from utils.delta_utils import log, read_table, write_table\n",
    "from pyspark.sql.functions import count\n",
    "\n",
    "log(\"GOLD\", \"Lendo SILVER\")\n",
    "df_silver = read_table(spark, TABLES[\"silver\"])\n",
    "\n",
    "log(\"GOLD\", \"Gerando agregados\")\n",
    "df_gold = df_silver.groupBy(\"OFFENSE_CODE_GROUP\")\\\n",
    "                   .agg(count(\"*\").alias(\"ocorrencias\"))\\\n",
    "                   .orderBy(\"ocorrencias\", ascending=False)\n",
    "\n",
    "write_table(df_gold, TABLES[\"gold\"])\n",
    "log(\"GOLD\", \"GOLD finalizada\")\n"
   ]
  }
 ],
 "metadata": {
  "application/vnd.databricks.v1+notebook": {
   "computePreferences": null,
   "dashboards": [],
   "environmentMetadata": {
    "base_environment": "",
    "environment_version": "2"
   },
   "inputWidgetPreferences": null,
   "language": "python",
   "notebookMetadata": {
    "pythonIndentUnit": 4
   },
   "notebookName": "gold_job.py",
   "widgets": {}
  },
  "language_info": {
   "name": "python"
  }
 },
 "nbformat": 4,
 "nbformat_minor": 0
}
